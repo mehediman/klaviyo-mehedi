{
 "cells": [
  {
   "cell_type": "markdown",
   "metadata": {
    "collapsed": false
   },
   "source": [
    "## Name: Md Mehedi Hasan\n",
    "## Email: mehedi2003@gmail.com"
   ]
  },
  {
   "cell_type": "code",
   "execution_count": 1,
   "metadata": {
    "collapsed": false
   },
   "outputs": [
    {
     "name": "stderr",
     "output_type": "stream",
     "text": [
      "/home/mehedi/anaconda2/lib/python2.7/site-packages/ipykernel/__main__.py:9: FutureWarning: from_csv is deprecated. Please use read_csv(...) instead. Note that some of the default arguments are different, so please refer to the documentation for from_csv when changing your function calls\n"
     ]
    }
   ],
   "source": [
    "# Required library\n",
    "import pandas as pd\n",
    "import dateutil\n",
    "import matplotlib.pyplot as plt\n",
    "from sklearn.metrics import confusion_matrix\n",
    "from scipy import stats\n",
    "\n",
    "# Load data from csv file\n",
    "data = pd.DataFrame.from_csv('screening_exercise_orders_v201810.csv')\n",
    "# Convert date from string to date times\n",
    "data['date'] = data['date'].apply(dateutil.parser.parse)"
   ]
  },
  {
   "cell_type": "code",
   "execution_count": 2,
   "metadata": {
    "collapsed": false
   },
   "outputs": [
    {
     "name": "stdout",
     "output_type": "stream",
     "text": [
      "                                  date  value\n",
      "customer_id gender                           \n",
      "1000        0      2017-01-01 00:11:31      1\n",
      "1001        0      2017-01-01 00:29:56      1\n",
      "1002        1      2017-01-01 01:30:31      3\n",
      "1003        1      2017-01-01 01:34:22      4\n",
      "1004        0      2017-01-01 03:11:54      1\n",
      "1005        1      2017-01-01 10:08:05      2\n",
      "1006        1      2017-01-01 15:42:57      3\n",
      "1007        0      2017-01-01 15:59:50      1\n",
      "1008        0      2017-01-01 18:01:04      3\n",
      "1009        1      2017-01-01 19:27:17      1\n"
     ]
    }
   ],
   "source": [
    "# Sort customers by their ids and display the first 10 rows\n",
    "sorted_customers = data.groupby(['customer_id', 'gender'], sort=True).agg({'value': \"count\", 'date': 'first'})\n",
    "print(sorted_customers.head(10))"
   ]
  },
  {
   "cell_type": "code",
   "execution_count": 3,
   "metadata": {
    "collapsed": false
   },
   "outputs": [],
   "source": [
    "# Plot order counts per week\n",
    "ax = plt.gca()\n",
    "data['week'] = data['date'].apply(lambda x: x.week)\n",
    "orders_per_week = data.groupby(['week']).agg({'value': \"count\"})\n",
    "orders_per_week.plot(kind='line', ax=ax)\n",
    "plt.ylabel('# of orders')\n",
    "plt.xlabel('week')\n",
    "plt.show()"
   ]
  },
  {
   "cell_type": "code",
   "execution_count": 4,
   "metadata": {
    "collapsed": false,
    "scrolled": true
   },
   "outputs": [
    {
     "name": "stdout",
     "output_type": "stream",
     "text": [
      "             value\n",
      "gender            \n",
      "0       363.890006\n",
      "1       350.708361\n"
     ]
    }
   ],
   "source": [
    "# Mean value by gender\n",
    "mean_order_value = data.groupby(['gender']).agg({'value': \"mean\"})\n",
    "print(mean_order_value)"
   ]
  },
  {
   "cell_type": "code",
   "execution_count": 5,
   "metadata": {
    "collapsed": false
   },
   "outputs": [
    {
     "name": "stdout",
     "output_type": "stream",
     "text": [
      "Ttest_indResult(statistic=1.976107933576866, pvalue=0.04816296295128402)\n"
     ]
    }
   ],
   "source": [
    "# t-test for significance\n",
    "t_test = stats.ttest_ind(data[data['gender'] == 0]['value'], data[data['gender'] == 1]['value'], equal_var=False)\n",
    "print(t_test)"
   ]
  },
  {
   "cell_type": "markdown",
   "metadata": {},
   "source": [
    "* Based on t-test, we find that p-value is less than 0.05. Therefore, their order mean is significantly different."
   ]
  },
  {
   "cell_type": "code",
   "execution_count": null,
   "metadata": {
    "collapsed": false,
    "scrolled": false
   },
   "outputs": [],
   "source": [
    "# Confusion_matrix\n",
    "confusion_mtx = confusion_matrix(data['gender'], data['predicted_gender'])\n",
    "print(confusion_mtx)"
   ]
  },
  {
   "cell_type": "markdown",
   "metadata": {},
   "source": [
    "* For a single gender prediction, the above model performed poorly. Especially, classifying the gender 0, which provides less than 50% accuracy (more than 50% are false negative). Even, a random guess will provide the similar results for gender 0. It also mean that the model is slightly biased for gender 1."
   ]
  },
  {
   "cell_type": "markdown",
   "metadata": {},
   "source": [
    "* My favorite technique to solve a problem is to fit a best model, where F1-Measure is reasonable and highly acceptable by the standard. Based on the given dataset, I tried to build a state-of-the-art machine learning model. Data visualization helped me a lot for understanding the problem first. After that, cross-validated macro-averaged F1-Measure results helped me to understand the overall performance of the model. I also check the strength of the model by using AUC value under the ROC curve. More often I used panda, scikit learn and numpy packages in a python programming language. "
   ]
  }
 ],
 "metadata": {
  "kernelspec": {
   "display_name": "Python 2",
   "language": "python",
   "name": "python2"
  },
  "language_info": {
   "codemirror_mode": {
    "name": "ipython",
    "version": 2
   },
   "file_extension": ".py",
   "mimetype": "text/x-python",
   "name": "python",
   "nbconvert_exporter": "python",
   "pygments_lexer": "ipython2",
   "version": "2.7.15"
  }
 },
 "nbformat": 4,
 "nbformat_minor": 0
}
